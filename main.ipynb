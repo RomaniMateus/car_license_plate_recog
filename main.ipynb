{
 "cells": [
  {
   "cell_type": "markdown",
   "source": [
    "# Curso de Visão Computacional\n",
    "\n",
    "## Aula 1 - Entendendo o problema\n",
    "\n",
    "### Preparando o ambiente\n",
    "\n",
    "Para o curso de visão computacional, vamos utilizar a biblioteca OpenCV e a interface pytesseract, que interage com o Tesseract da Google. Para instalar o OpenCV, basta executar o comando abaixo:\n",
    "\n",
    "```bash\n",
    "pip install opencv-python\n",
    "```\n",
    "Para instalar o pytesseract, basta executar o comando abaixo:\n",
    "\n",
    "```bash\n",
    "pip install pytesseract\n",
    "```\n"
   ],
   "metadata": {
    "collapsed": false
   },
   "id": "1a93132f2b5370cd"
  },
  {
   "cell_type": "markdown",
   "source": [
    "### Exemplo de uso\n",
    "\n",
    "Vamos utilizar o pytesseract para extrair o texto de uma imagem. Para isso, vamos utilizar a imagem abaixo:\n",
    "\n",
    "![Trecho do livro \"The Witcher\"](imagens/trecho_livro.png)"
   ],
   "metadata": {
    "collapsed": false
   },
   "id": "50dde0815ee8c12d"
  },
  {
   "cell_type": "code",
   "outputs": [],
   "source": [
    "# Importando as bibliotecas necessárias\n",
    "import os\n",
    "import cv2\n",
    "import pytesseract\n",
    "\n",
    "# Carregando a imagem\n",
    "image_file_path = os.getcwd() + '\\\\imagens\\\\trecho_livro.png'\n",
    "image = cv2.imread(image_file_path)\n",
    "\n",
    "# Exibindo a imagem\n",
    "cv2.imshow('image', image)\n",
    "cv2.waitKey(0)\n",
    "cv2.destroyAllWindows()"
   ],
   "metadata": {
    "collapsed": true,
    "ExecuteTime": {
     "end_time": "2024-04-02T15:24:18.993605Z",
     "start_time": "2024-04-02T15:24:15.022859Z"
    }
   },
   "id": "initial_id",
   "execution_count": 1
  },
  {
   "cell_type": "markdown",
   "source": [
    "Com o Tesseract é possível extrair o texto da imagem. Para isso, vamos utilizar o método `image_to_string` do pytesseract. O código abaixo extrai o texto da imagem e imprime na tela."
   ],
   "metadata": {
    "collapsed": false
   },
   "id": "7203fc4fdc2a6840"
  },
  {
   "cell_type": "code",
   "outputs": [
    {
     "name": "stdout",
     "output_type": "stream",
     "text": [
      "— Um mal é um mal, Stregobor — retrucou seriamente 0 bry.\n",
      "xo, pondo-se de pé. — Menor, maior, médio, tanto faz... A\n",
      "porgdes sao convencionadas e as fronteiras, imprecisas.\n",
      "um santo eremita e nao pratiquei apenas 0 bem ao longo de mi-\n",
      "nha vida. Mas, se me couber escolher entre dois males, prefiro\n",
      "\n",
      "abster-me por completo da escolha. Esta na hora de ir embora.\n",
      "Ver-nos-emos amanha.\n",
      "\n",
      " \n",
      "\n",
      "S Dro-\n",
      "\n",
      "40 SOU\n",
      "\n",
      " \n",
      "\n",
      " \n"
     ]
    }
   ],
   "source": [
    "texto = pytesseract.image_to_string(image)\n",
    "print(texto)"
   ],
   "metadata": {
    "collapsed": false,
    "ExecuteTime": {
     "end_time": "2024-04-02T15:24:19.667494Z",
     "start_time": "2024-04-02T15:24:18.996878Z"
    }
   },
   "id": "6743ace3ef7819c3",
   "execution_count": 2
  },
  {
   "cell_type": "markdown",
   "source": [
    "Através do output acima podemos perceber que o Tesseract não extraiu de maneira tão eficiente o texto da imagem. Para melhorarmos a sua eficiência podemos passar alguns parâmetros para o método `image_to_string`:\n",
    "\n",
    "1. `tessdata-dir`: Diretório onde estão os arquivos de treinamento do Tesseract.\n",
    "2. `psm`: Modo de segmentação de página. O valor 6 é utilizado para segmentação de bloco de texto."
   ],
   "metadata": {
    "collapsed": false
   },
   "id": "9a3c5ace582b8404"
  },
  {
   "cell_type": "code",
   "outputs": [
    {
     "name": "stdout",
     "output_type": "stream",
     "text": [
      "— Um mal é um mal, Stregobor — retrucou seriamente o bry-\n",
      "xo, pondo-se de pé. — Menor, maior, médio, tanto faz... As pro-\n",
      "porções são convencionadas e as fronteiras, imprecisas. Não sou\n",
      "um santo eremita e não pratiquei apenas o bem ao longo de mi-\n",
      "nha vida. Mas, se me couber escolher entre dois males, prefiro\n",
      "abster-me por completo da escolha. Está na hora de ir embora. |\n",
      "Ver-nos-emos amanhã. |\n"
     ]
    }
   ],
   "source": [
    "tesseract_config = \"--tessdata-dir tessdata --psm 6\"\n",
    "\n",
    "texto = pytesseract.image_to_string(image, config=tesseract_config, lang=\"por\")\n",
    "print(texto)"
   ],
   "metadata": {
    "collapsed": false,
    "ExecuteTime": {
     "end_time": "2024-04-02T15:25:34.387965Z",
     "start_time": "2024-04-02T15:25:33.532087Z"
    }
   },
   "id": "628c68fe36dfc3bc",
   "execution_count": 6
  },
  {
   "cell_type": "markdown",
   "source": [
    "### Trabalhando com placas de veículos\n",
    "\n",
    "Vamos utilizar o pytesseract para extrair o texto de uma placa de veículo. Para isso, vamos utilizar a imagem abaixo:\n",
    "\n",
    "![Placa de veículo](imagens/placa_carro1.png)"
   ],
   "metadata": {
    "collapsed": false
   },
   "id": "19e9957e168b84a6"
  },
  {
   "cell_type": "code",
   "outputs": [],
   "source": [],
   "metadata": {
    "collapsed": false
   },
   "id": "5ade7d01cb59a615"
  }
 ],
 "metadata": {
  "kernelspec": {
   "display_name": "Python 3",
   "language": "python",
   "name": "python3"
  },
  "language_info": {
   "codemirror_mode": {
    "name": "ipython",
    "version": 2
   },
   "file_extension": ".py",
   "mimetype": "text/x-python",
   "name": "python",
   "nbconvert_exporter": "python",
   "pygments_lexer": "ipython2",
   "version": "2.7.6"
  }
 },
 "nbformat": 4,
 "nbformat_minor": 5
}
